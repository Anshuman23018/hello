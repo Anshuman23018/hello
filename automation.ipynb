{
  "nbformat": 4,
  "nbformat_minor": 0,
  "metadata": {
    "colab": {
      "provenance": [],
      "authorship_tag": "ABX9TyPdNAEEesB0+RH30mpIRaIc",
      "include_colab_link": true
    },
    "kernelspec": {
      "name": "python3",
      "display_name": "Python 3"
    },
    "language_info": {
      "name": "python"
    }
  },
  "cells": [
    {
      "cell_type": "markdown",
      "metadata": {
        "id": "view-in-github",
        "colab_type": "text"
      },
      "source": [
        "<a href=\"https://colab.research.google.com/github/Anshuman23018/hello/blob/main/automation.ipynb\" target=\"_parent\"><img src=\"https://colab.research.google.com/assets/colab-badge.svg\" alt=\"Open In Colab\"/></a>"
      ]
    },
    {
      "cell_type": "code",
      "source": [
        "!pip install selenium"
      ],
      "metadata": {
        "id": "6j942CyCOndN"
      },
      "execution_count": 10,
      "outputs": []
    },
    {
      "cell_type": "code",
      "execution_count": 10,
      "metadata": {
        "colab": {
          "base_uri": "https://localhost:8080/"
        },
        "id": "_YF6MRrAIKxJ",
        "outputId": "993fcaa2-7650-4094-d992-918d3b46fcd2"
      },
      "outputs": [
        {
          "output_type": "stream",
          "name": "stdout",
          "text": [
            "Uploading file: /content/upload/5x5f.pdb\n",
            "Job link for 5x5f.pdb : http://sts.bioe.uic.edu/castp/index.html?j_662641f93101d\n",
            "Uploading file: /content/upload/6rr7.pdb\n",
            "Job link for 6rr7.pdb : http://sts.bioe.uic.edu/castp/index.html?j_662642039e1f0\n",
            "Uploading file: /content/upload/6vxx.pdb\n",
            "Job link for 6vxx.pdb : http://sts.bioe.uic.edu/castp/index.html?j_6626420e340d1\n",
            "Waiting for 60 seconds before starting the download process...\n",
            "Processing job link for 5x5f.pdb : http://sts.bioe.uic.edu/castp/index.html?j_662641f93101d\n",
            "File downloaded and saved as: /content/download/5x5f_662641f93101d.zip\n",
            "Processing job link for 6rr7.pdb : http://sts.bioe.uic.edu/castp/index.html?j_662642039e1f0\n",
            "File downloaded and saved as: /content/download/6rr7_662642039e1f0.zip\n",
            "Processing job link for 6vxx.pdb : http://sts.bioe.uic.edu/castp/index.html?j_6626420e340d1\n",
            "File downloaded and saved as: /content/download/6vxx_6626420e340d1.zip\n"
          ]
        }
      ],
      "source": [
        "from selenium import webdriver\n",
        "from selenium.webdriver.common.by import By\n",
        "from selenium.webdriver.support.ui import WebDriverWait\n",
        "from selenium.webdriver.support import expected_conditions as EC\n",
        "import os\n",
        "import re\n",
        "import time\n",
        "import requests\n",
        "import shutil\n",
        "from selenium.webdriver.chrome.options import Options\n",
        "\n",
        "# Function to download file from URL\n",
        "def download_file(url, filename):\n",
        "    response = requests.get(url)\n",
        "    with open(filename, \"wb\") as file:\n",
        "        file.write(response.content)\n",
        "\n",
        "# Function to upload a single file, submit the form, and get the job link\n",
        "def upload_and_submit(driver, wait, folder_path, upload_input):\n",
        "    job_links = []  # Initialize an empty list to store tuples of filename and job link\n",
        "\n",
        "    # Upload a file\n",
        "    for file_name in os.listdir(folder_path):\n",
        "        file_path = os.path.join(folder_path, file_name)\n",
        "        print(\"Uploading file:\", file_path)  # Print the complete file path\n",
        "\n",
        "        upload_input.send_keys(file_path)\n",
        "\n",
        "        # Dismiss any overlay or popup\n",
        "        try:\n",
        "            overlay = wait.until(EC.presence_of_element_located((By.CLASS_NAME, \"modal-overlay\")))\n",
        "            driver.execute_script(\"arguments[0].click();\", overlay)\n",
        "        except:\n",
        "            pass\n",
        "\n",
        "        # Dismiss any other overlay if present\n",
        "        try:\n",
        "            other_overlay = driver.find_element(By.CLASS_NAME, \"other-modal-overlay-class\")\n",
        "            driver.execute_script(\"arguments[0].click();\", other_overlay)\n",
        "        except:\n",
        "            pass\n",
        "\n",
        "        # Submit the form\n",
        "        submit_button = wait.until(EC.element_to_be_clickable((By.XPATH, \"//button[@id='btn_submit']\")))\n",
        "        submit_button.click()\n",
        "\n",
        "        # Wait for file generation process to complete\n",
        "        time.sleep(10)  # Adjust this as needed\n",
        "\n",
        "        # Find the joblink element and extract the link\n",
        "        joblink_element = wait.until(EC.presence_of_element_located((By.ID, \"joblink\")))\n",
        "        joblink_href = joblink_element.get_attribute(\"href\")\n",
        "\n",
        "        # Print or store the link\n",
        "        print(\"Job link for\", file_name, \":\", joblink_href)\n",
        "\n",
        "        # Store the filename and job link in the list as a tuple\n",
        "        job_links.append((file_name, joblink_href))\n",
        "\n",
        "        # Click anywhere on the screen outside the popup to dismiss it\n",
        "        driver.find_element(By.XPATH, \"//body\").click()\n",
        "\n",
        "        # Wait for the upload input element to be clickable again\n",
        "        upload_input = wait.until(EC.presence_of_element_located((By.XPATH, \"//input[@type='file']\")))\n",
        "\n",
        "    return job_links\n",
        "\n",
        "# Set up Chrome WebDriver with headless option\n",
        "chrome_options = Options()\n",
        "chrome_options.add_argument('--headless')\n",
        "chrome_options.add_argument('--no-sandbox')\n",
        "chrome_options.add_argument('--disable-dev-shm-usage')\n",
        "\n",
        "# Initialize WebDriver\n",
        "driver = webdriver.Chrome(options=chrome_options)  # You can use other browsers too\n",
        "wait = WebDriverWait(driver, 20)\n",
        "\n",
        "# Open the website\n",
        "driver.get(\"http://sts.bioe.uic.edu/castp/calculation.html\")\n",
        "\n",
        "try:\n",
        "    # Find the file upload input element\n",
        "    upload_input = wait.until(EC.presence_of_element_located((By.XPATH, \"//input[@type='file']\")))\n",
        "\n",
        "    # Upload files from a folder\n",
        "    folder_path = \"/content/upload\"  # Adjust path accordingly\n",
        "    job_links = upload_and_submit(driver, wait, folder_path, upload_input)\n",
        "\n",
        "    # Add a delay before starting the download process\n",
        "    print(\"Waiting for 60 seconds before starting the download process...\")\n",
        "    time.sleep(120)\n",
        "\n",
        "    download_dir = \"/content/download\"  # Adjust path accordingly\n",
        "    if not os.path.exists(download_dir):\n",
        "        os.makedirs(download_dir)\n",
        "\n",
        "    for filename, joblink in job_links:\n",
        "        print(\"Processing job link for\", filename, \":\", joblink)\n",
        "        driver.get(joblink)\n",
        "\n",
        "        # Wait for 60 seconds before clicking the download button\n",
        "        time.sleep(60)\n",
        "\n",
        "        download_button = wait.until(EC.presence_of_element_located((By.XPATH, \"//button[@id='downloadbtn']\")))\n",
        "\n",
        "        # Scroll to the download button\n",
        "        driver.execute_script(\"arguments[0].scrollIntoView();\", download_button)\n",
        "\n",
        "        # Click the download button\n",
        "        download_button.click()\n",
        "\n",
        "        # Wait for the download to complete\n",
        "        time.sleep(5)\n",
        "\n",
        "        # Find the downloaded file in the default download directory\n",
        "        default_download_dir = \"/content\"  # Adjust path accordingly\n",
        "        files_in_dir = os.listdir(default_download_dir)\n",
        "        downloaded_file = max([os.path.join(default_download_dir, f) for f in files_in_dir], key=os.path.getctime)\n",
        "\n",
        "        # Extract the job ID from the job link\n",
        "        job_id = re.search(r'j_(\\w+)', joblink).group(1)\n",
        "\n",
        "        # Move the downloaded file to the desired directory with the new filename and .zip extension\n",
        "        target_file_path = os.path.join(download_dir, f\"{os.path.splitext(filename)[0]}_{job_id}.zip\")\n",
        "        shutil.move(downloaded_file, target_file_path)\n",
        "        print(\"File downloaded and saved as:\", target_file_path)\n",
        "\n",
        "finally:\n",
        "    # Close the browser\n",
        "    driver.quit()\n"
      ]
    },
    {
      "cell_type": "code",
      "source": [
        "\n"
      ],
      "metadata": {
        "id": "tZmTD8hrJTNF"
      },
      "execution_count": 10,
      "outputs": []
    },
    {
      "cell_type": "code",
      "source": [],
      "metadata": {
        "id": "zgzephx2ebiD"
      },
      "execution_count": null,
      "outputs": []
    }
  ]
}